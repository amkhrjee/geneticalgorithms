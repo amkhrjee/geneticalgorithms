{
 "cells": [
  {
   "cell_type": "markdown",
   "id": "5fb5f44c",
   "metadata": {},
   "source": [
    "## An introduction to Genetic Algorithms\n",
    "\n",
    "Following example from this paper: https://arxiv.org/pdf/1308.4675\n",
    "\n",
    "### The problem\n",
    "\n",
    "Find $a$, $b$, $c$ and $d$ such that they satisfy the equality $a + 2b + 3c + 4d = 30$.\n",
    "\n",
    "We formualte our objective function as $$f(x) = (a + 2b + 3c + 4d) - 30$$\n",
    "\n",
    "Since there are four variables in the function, we can compose the chromosome as with the genes a, b, c and d. For simplicity, we restrict the values these can take to the range $[0, 30]$."
   ]
  },
  {
   "cell_type": "code",
   "execution_count": 128,
   "id": "6b9f9fcb",
   "metadata": {},
   "outputs": [
    {
     "name": "stdout",
     "output_type": "stream",
     "text": [
      "[[6, 19, 28, 14], [10, 7, 28, 20], [6, 25, 18, 22], [10, 10, 23, 20], [3, 7, 23, 2], [21, 20, 1, 23]]\n"
     ]
    }
   ],
   "source": [
    "import numpy as np\n",
    "\n",
    "np.random.seed(42)\n",
    "\n",
    "population_size = 6\n",
    "\n",
    "chromosomes = []\n",
    "\n",
    "## initialization\n",
    "for _ in range(population_size):\n",
    "    chromosomes.append([np.random.randint(0, 30 + 1) for _ in range(4)])\n",
    "\n",
    "print(chromosomes)"
   ]
  },
  {
   "cell_type": "code",
   "execution_count": 129,
   "id": "759b836d",
   "metadata": {},
   "outputs": [
    {
     "name": "stdout",
     "output_type": "stream",
     "text": [
      "[154, 158, 168, 149, 64, 126]\n"
     ]
    }
   ],
   "source": [
    "## evaluation\n",
    "def objective_fn(a, b, c, d):\n",
    "    return abs((a + 2 * b + 3 * c + 4 * d) - 30)\n",
    "\n",
    "\n",
    "scores = [objective_fn(*x) for x in chromosomes]\n",
    "print(scores)"
   ]
  },
  {
   "cell_type": "code",
   "execution_count": 130,
   "id": "2bdb599e",
   "metadata": {},
   "outputs": [
    {
     "name": "stdout",
     "output_type": "stream",
     "text": [
      "Total fitness: 0.04858337864195359\n"
     ]
    }
   ],
   "source": [
    "def fitness(val: int):\n",
    "    return 1 / (val + 1)\n",
    "\n",
    "\n",
    "total_fitness = sum([fitness(x) for x in scores])\n",
    "print(f\"Total fitness: {total_fitness}\")"
   ]
  },
  {
   "cell_type": "markdown",
   "id": "e7f21636",
   "metadata": {},
   "source": [
    "Probability for getting selected next generation of chromosomes for a chromosome $i$ = $\\dfrac{\\text{Fitness[i]}}{\\text{Total Fitness}}$\n"
   ]
  },
  {
   "cell_type": "code",
   "execution_count": 131,
   "id": "b85610c1",
   "metadata": {},
   "outputs": [
    {
     "name": "stdout",
     "output_type": "stream",
     "text": [
      "[[3, 7, 23, 2], [10, 7, 28, 20], [10, 7, 28, 20], [10, 7, 28, 20], [6, 25, 18, 22], [3, 7, 23, 2]]\n"
     ]
    }
   ],
   "source": [
    "probas = [fitness(x) / total_fitness for x in scores]\n",
    "cumprobas = np.cumsum(probas)\n",
    "\n",
    "rands = np.random.random(population_size)\n",
    "\n",
    "\n",
    "def get_chromosome(r):\n",
    "    for i, cumproba in enumerate(cumprobas):\n",
    "        if cumproba > r:\n",
    "            return chromosomes[i]\n",
    "\n",
    "\n",
    "new_chromosomes = [get_chromosome(r) for r in rands]\n",
    "\n",
    "print(new_chromosomes)\n"
   ]
  },
  {
   "cell_type": "code",
   "execution_count": 132,
   "id": "b6327270",
   "metadata": {},
   "outputs": [],
   "source": [
    "crossover_rate = 0.25\n",
    "\n",
    "crossover_chromosomes_idx = [\n",
    "    i for i, _ in enumerate(new_chromosomes) if rands[i] < crossover_rate\n",
    "]\n",
    "\n",
    "crossover_points = [\n",
    "    np.random.randint(0, len(chromosomes[x])) for x in crossover_chromosomes_idx\n",
    "]\n"
   ]
  },
  {
   "cell_type": "code",
   "execution_count": 133,
   "id": "cf0a702e",
   "metadata": {},
   "outputs": [],
   "source": [
    "import copy\n",
    "\n",
    "\n",
    "def crossover(chromosomes, crossover_chromosomes_idx, crossover_points):\n",
    "    # There are a total of nC2 possible pairs\n",
    "    result = copy.deepcopy(chromosomes)\n",
    "    for i, chromosome_idx in enumerate(\n",
    "        crossover_chromosomes_idx[: len(crossover_chromosomes_idx)]\n",
    "    ):\n",
    "        chr_one = chromosome_idx\n",
    "        for chr_two in crossover_chromosomes_idx[i + 1 :]:\n",
    "            crossover_point = crossover_points.pop(0)\n",
    "            result[chr_one] = (\n",
    "                chromosomes[chr_one][:crossover_point]\n",
    "                + chromosomes[chr_two][crossover_point:]\n",
    "            )\n",
    "\n",
    "    return result  # returns complete list of cross-overed chromosomes\n",
    "\n",
    "\n",
    "crossed_chromosomes = crossover(\n",
    "    new_chromosomes, crossover_chromosomes_idx, crossover_points\n",
    ")"
   ]
  },
  {
   "cell_type": "code",
   "execution_count": 134,
   "id": "c71c7cd1",
   "metadata": {},
   "outputs": [
    {
     "name": "stdout",
     "output_type": "stream",
     "text": [
      "[[3, 7, 23, 2], [10, 7, 28, 20], [10, 7, 28, 20], [10, 7, 28, 20], [6, 25, 18, 22], [3, 7, 23, 2]]\n",
      "[[3, 7, 23, 2], [10, 14, 28, 20], [10, 7, 29, 20], [10, 7, 28, 22], [6, 25, 18, 22], [3, 7, 23, 2]]\n"
     ]
    }
   ],
   "source": [
    "mutation_rate = 10\n",
    "mutated_chromosomes = []\n",
    "\n",
    "for cross_chrm in crossed_chromosomes:\n",
    "    chrm_copy = cross_chrm[:]  # shallow copy of chromosome\n",
    "    if mutation_rate < np.random.randint(4 * population_size):\n",
    "        chrm_copy[np.random.randint(0, 4)] = np.random.randint(0, 30 + 1)\n",
    "    mutated_chromosomes.append(chrm_copy)\n",
    "\n",
    "print(crossed_chromosomes)\n",
    "print(mutated_chromosomes)"
   ]
  },
  {
   "cell_type": "markdown",
   "id": "1dd0a7ea",
   "metadata": {},
   "source": [
    "Now do this repeatedly for ~50 (or whatever number pleases you) times. Then _maybe_ you will get a solution."
   ]
  }
 ],
 "metadata": {
  "kernelspec": {
   "display_name": ".venv",
   "language": "python",
   "name": "python3"
  },
  "language_info": {
   "codemirror_mode": {
    "name": "ipython",
    "version": 3
   },
   "file_extension": ".py",
   "mimetype": "text/x-python",
   "name": "python",
   "nbconvert_exporter": "python",
   "pygments_lexer": "ipython3",
   "version": "3.13.6"
  }
 },
 "nbformat": 4,
 "nbformat_minor": 5
}
